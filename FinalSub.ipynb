{
  "nbformat": 4,
  "nbformat_minor": 0,
  "metadata": {
    "colab": {
      "provenance": [],
      "gpuType": "T4"
    },
    "kernelspec": {
      "name": "python3",
      "display_name": "Python 3"
    },
    "language_info": {
      "name": "python"
    },
    "accelerator": "GPU"
  },
  "cells": [
    {
      "cell_type": "code",
      "execution_count": null,
      "metadata": {
        "id": "rIm7v_Lj-Jwh"
      },
      "outputs": [],
      "source": [
        "import numpy as np\n",
        "import pandas as pd\n",
        "from sklearn.model_selection import train_test_split\n",
        "from sklearn.feature_extraction.text import CountVectorizer\n",
        "from sklearn.preprocessing import LabelEncoder\n",
        "from sklearn.metrics import accuracy_score\n",
        "from sklearn.neighbors import KNeighborsClassifier\n",
        "from tensorflow.keras.models import Sequential\n",
        "from tensorflow.keras.layers import Dense, Embedding, LSTM\n",
        "from tensorflow.keras.preprocessing.text import Tokenizer\n",
        "from tensorflow.keras.preprocessing.sequence import pad_sequences"
      ]
    },
    {
      "cell_type": "code",
      "source": [
        "train_data = \"/content/train_data.txt\"\n",
        "data = pd.read_csv(train_data, sep=':::', names=['Title','genre','description'])"
      ],
      "metadata": {
        "colab": {
          "base_uri": "https://localhost:8080/"
        },
        "id": "bGMBSYQMAj0A",
        "outputId": "c664cb16-8858-481c-be07-9913ded0d219"
      },
      "execution_count": null,
      "outputs": [
        {
          "output_type": "stream",
          "name": "stderr",
          "text": [
            "<ipython-input-2-f4d7027dff8d>:2: ParserWarning: Falling back to the 'python' engine because the 'c' engine does not support regex separators (separators > 1 char and different from '\\s+' are interpreted as regex); you can avoid this warning by specifying engine='python'.\n",
            "  data = pd.read_csv(train_data, sep=':::', names=['Title','genre','description'])\n"
          ]
        }
      ]
    },
    {
      "cell_type": "code",
      "source": [
        "# Preprocess the data\n",
        "X = data['description']\n",
        "y = data['genre']"
      ],
      "metadata": {
        "id": "mH7Ush9i-Qz0"
      },
      "execution_count": null,
      "outputs": []
    },
    {
      "cell_type": "code",
      "source": [
        "# Label encoding for genres\n",
        "label_encoder = LabelEncoder()\n",
        "y = label_encoder.fit_transform(y)"
      ],
      "metadata": {
        "id": "KFFlXl8H-QxC"
      },
      "execution_count": null,
      "outputs": []
    },
    {
      "cell_type": "code",
      "source": [
        "# Train-test split\n",
        "X_train, X_test, y_train, y_test = train_test_split(X, y, test_size=0.2, random_state=42)"
      ],
      "metadata": {
        "id": "RVkfNkYM-mTe"
      },
      "execution_count": null,
      "outputs": []
    },
    {
      "cell_type": "code",
      "source": [
        "# Vectorize the text data\n",
        "max_words = 1000  # Adjust according to your dataset and computing power\n",
        "tokenizer = Tokenizer(num_words=max_words)\n",
        "tokenizer.fit_on_texts(X_train)\n",
        "X_train_seq = tokenizer.texts_to_sequences(X_train)\n",
        "X_test_seq = tokenizer.texts_to_sequences(X_test)\n",
        "\n",
        "max_len = 100  # Adjust according to the maximum length of your descriptions\n",
        "X_train_pad = pad_sequences(X_train_seq, maxlen=max_len)\n",
        "X_test_pad = pad_sequences(X_test_seq, maxlen=max_len)"
      ],
      "metadata": {
        "id": "NL2D3jIy-mQE"
      },
      "execution_count": null,
      "outputs": []
    },
    {
      "cell_type": "code",
      "source": [
        "print(len(X_train_pad[0]))"
      ],
      "metadata": {
        "colab": {
          "base_uri": "https://localhost:8080/"
        },
        "id": "Oh9gfStXVRYM",
        "outputId": "d6a64b04-32fb-4426-a248-4aaf9b2f22fa"
      },
      "execution_count": null,
      "outputs": [
        {
          "output_type": "stream",
          "name": "stdout",
          "text": [
            "100\n"
          ]
        }
      ]
    },
    {
      "cell_type": "code",
      "source": [
        "print"
      ],
      "metadata": {
        "id": "ln0gLvvMVlPL"
      },
      "execution_count": null,
      "outputs": []
    },
    {
      "cell_type": "code",
      "source": [
        "# ANN model\n",
        "ann_model = Sequential([\n",
        "    Dense(64, activation='relu', input_shape=(max_len,)),\n",
        "    Dense(32, activation='relu'),\n",
        "    Dense(len(label_encoder.classes_), activation='softmax')\n",
        "])\n",
        "ann_model.compile(optimizer='adam', loss='sparse_categorical_crossentropy', metrics=['accuracy'])\n",
        "\n",
        "# Train the ANN model\n",
        "ann_model.fit(X_train_pad, y_train, epochs=10, batch_size=32, validation_data=(X_test_pad, y_test))"
      ],
      "metadata": {
        "colab": {
          "base_uri": "https://localhost:8080/"
        },
        "id": "tLVAfgpl-mNo",
        "outputId": "073864aa-cd39-4aeb-c181-cdc42377ca11"
      },
      "execution_count": null,
      "outputs": [
        {
          "output_type": "stream",
          "name": "stdout",
          "text": [
            "Epoch 1/10\n",
            "681/681 [==============================] - 3s 3ms/step - loss: 10.4096 - accuracy: 0.2251 - val_loss: 2.8031 - val_accuracy: 0.2462\n",
            "Epoch 2/10\n",
            "681/681 [==============================] - 2s 3ms/step - loss: 2.6248 - accuracy: 0.2495 - val_loss: 2.5151 - val_accuracy: 0.2475\n",
            "Epoch 3/10\n",
            "681/681 [==============================] - 2s 3ms/step - loss: 2.4338 - accuracy: 0.2499 - val_loss: 2.4148 - val_accuracy: 0.2475\n",
            "Epoch 4/10\n",
            "681/681 [==============================] - 1s 2ms/step - loss: 2.3689 - accuracy: 0.2500 - val_loss: 2.3817 - val_accuracy: 0.2475\n",
            "Epoch 5/10\n",
            "681/681 [==============================] - 1s 2ms/step - loss: 2.3487 - accuracy: 0.2501 - val_loss: 2.3706 - val_accuracy: 0.2475\n",
            "Epoch 6/10\n",
            "681/681 [==============================] - 2s 2ms/step - loss: 2.3417 - accuracy: 0.2503 - val_loss: 2.3663 - val_accuracy: 0.2481\n",
            "Epoch 7/10\n",
            "681/681 [==============================] - 2s 2ms/step - loss: 2.3387 - accuracy: 0.2502 - val_loss: 2.3585 - val_accuracy: 0.2479\n",
            "Epoch 8/10\n",
            "681/681 [==============================] - 2s 2ms/step - loss: 2.3378 - accuracy: 0.2502 - val_loss: 2.3590 - val_accuracy: 0.2477\n",
            "Epoch 9/10\n",
            "681/681 [==============================] - 1s 2ms/step - loss: 2.3377 - accuracy: 0.2502 - val_loss: 2.3571 - val_accuracy: 0.2479\n",
            "Epoch 10/10\n",
            "681/681 [==============================] - 2s 3ms/step - loss: 2.3381 - accuracy: 0.2500 - val_loss: 2.3528 - val_accuracy: 0.2481\n"
          ]
        },
        {
          "output_type": "execute_result",
          "data": {
            "text/plain": [
              "<keras.src.callbacks.History at 0x7dae0acf1240>"
            ]
          },
          "metadata": {},
          "execution_count": 7
        }
      ]
    },
    {
      "cell_type": "code",
      "source": [
        "# RNN model\n",
        "rnn_model = Sequential([\n",
        "    Embedding(input_dim=max_words, output_dim=64, input_length=max_len),\n",
        "    LSTM(64),\n",
        "    Dense(len(label_encoder.classes_), activation='softmax')\n",
        "])\n",
        "rnn_model.compile(optimizer='adam', loss='sparse_categorical_crossentropy', metrics=['accuracy'])\n",
        "\n",
        "# Train the RNN model\n",
        "rnn_model.fit(X_train_pad, y_train, epochs=10, batch_size=32, validation_data=(X_test_pad, y_test))"
      ],
      "metadata": {
        "colab": {
          "base_uri": "https://localhost:8080/"
        },
        "id": "NvhZoIXK-3qb",
        "outputId": "935fc125-94a5-41e9-e00f-709ed19ac462"
      },
      "execution_count": null,
      "outputs": [
        {
          "output_type": "stream",
          "name": "stdout",
          "text": [
            "Epoch 1/10\n",
            "681/681 [==============================] - 51s 71ms/step - loss: 2.2420 - accuracy: 0.3515 - val_loss: 2.0576 - val_accuracy: 0.4179\n",
            "Epoch 2/10\n",
            "681/681 [==============================] - 46s 67ms/step - loss: 1.9520 - accuracy: 0.4492 - val_loss: 1.9463 - val_accuracy: 0.4374\n",
            "Epoch 3/10\n",
            "681/681 [==============================] - 48s 71ms/step - loss: 1.8379 - accuracy: 0.4718 - val_loss: 1.8872 - val_accuracy: 0.4504\n",
            "Epoch 4/10\n",
            "681/681 [==============================] - 47s 69ms/step - loss: 1.7418 - accuracy: 0.4970 - val_loss: 1.8219 - val_accuracy: 0.4668\n",
            "Epoch 5/10\n",
            "681/681 [==============================] - 48s 71ms/step - loss: 1.6586 - accuracy: 0.5177 - val_loss: 1.7679 - val_accuracy: 0.4846\n",
            "Epoch 6/10\n",
            "681/681 [==============================] - 50s 74ms/step - loss: 1.5791 - accuracy: 0.5417 - val_loss: 1.7545 - val_accuracy: 0.4853\n",
            "Epoch 7/10\n",
            "681/681 [==============================] - 49s 71ms/step - loss: 1.5178 - accuracy: 0.5564 - val_loss: 1.7241 - val_accuracy: 0.4917\n",
            "Epoch 8/10\n",
            "681/681 [==============================] - 49s 72ms/step - loss: 1.4660 - accuracy: 0.5674 - val_loss: 1.7118 - val_accuracy: 0.4917\n",
            "Epoch 9/10\n",
            "681/681 [==============================] - 48s 71ms/step - loss: 1.4190 - accuracy: 0.5807 - val_loss: 1.7221 - val_accuracy: 0.4870\n",
            "Epoch 10/10\n",
            "681/681 [==============================] - 50s 74ms/step - loss: 1.3760 - accuracy: 0.5923 - val_loss: 1.7231 - val_accuracy: 0.4945\n"
          ]
        },
        {
          "output_type": "execute_result",
          "data": {
            "text/plain": [
              "<keras.src.callbacks.History at 0x7dae037b9270>"
            ]
          },
          "metadata": {},
          "execution_count": 8
        }
      ]
    },
    {
      "cell_type": "code",
      "source": [
        "# KNN model\n",
        "# Convert text data to bag-of-words representation\n",
        "vectorizer = CountVectorizer()\n",
        "X_train_vec = vectorizer.fit_transform(X_train)\n",
        "X_test_vec = vectorizer.transform(X_test)\n",
        "\n",
        "# Train the KNN model\n",
        "knn_model = KNeighborsClassifier(n_neighbors=5)\n",
        "knn_model.fit(X_train_vec, y_train)"
      ],
      "metadata": {
        "colab": {
          "base_uri": "https://localhost:8080/",
          "height": 74
        },
        "id": "ExbvE_7C-8NV",
        "outputId": "34479074-43d8-47ce-9d7b-4169826634ff"
      },
      "execution_count": null,
      "outputs": [
        {
          "output_type": "execute_result",
          "data": {
            "text/plain": [
              "KNeighborsClassifier()"
            ],
            "text/html": [
              "<style>#sk-container-id-1 {color: black;background-color: white;}#sk-container-id-1 pre{padding: 0;}#sk-container-id-1 div.sk-toggleable {background-color: white;}#sk-container-id-1 label.sk-toggleable__label {cursor: pointer;display: block;width: 100%;margin-bottom: 0;padding: 0.3em;box-sizing: border-box;text-align: center;}#sk-container-id-1 label.sk-toggleable__label-arrow:before {content: \"▸\";float: left;margin-right: 0.25em;color: #696969;}#sk-container-id-1 label.sk-toggleable__label-arrow:hover:before {color: black;}#sk-container-id-1 div.sk-estimator:hover label.sk-toggleable__label-arrow:before {color: black;}#sk-container-id-1 div.sk-toggleable__content {max-height: 0;max-width: 0;overflow: hidden;text-align: left;background-color: #f0f8ff;}#sk-container-id-1 div.sk-toggleable__content pre {margin: 0.2em;color: black;border-radius: 0.25em;background-color: #f0f8ff;}#sk-container-id-1 input.sk-toggleable__control:checked~div.sk-toggleable__content {max-height: 200px;max-width: 100%;overflow: auto;}#sk-container-id-1 input.sk-toggleable__control:checked~label.sk-toggleable__label-arrow:before {content: \"▾\";}#sk-container-id-1 div.sk-estimator input.sk-toggleable__control:checked~label.sk-toggleable__label {background-color: #d4ebff;}#sk-container-id-1 div.sk-label input.sk-toggleable__control:checked~label.sk-toggleable__label {background-color: #d4ebff;}#sk-container-id-1 input.sk-hidden--visually {border: 0;clip: rect(1px 1px 1px 1px);clip: rect(1px, 1px, 1px, 1px);height: 1px;margin: -1px;overflow: hidden;padding: 0;position: absolute;width: 1px;}#sk-container-id-1 div.sk-estimator {font-family: monospace;background-color: #f0f8ff;border: 1px dotted black;border-radius: 0.25em;box-sizing: border-box;margin-bottom: 0.5em;}#sk-container-id-1 div.sk-estimator:hover {background-color: #d4ebff;}#sk-container-id-1 div.sk-parallel-item::after {content: \"\";width: 100%;border-bottom: 1px solid gray;flex-grow: 1;}#sk-container-id-1 div.sk-label:hover label.sk-toggleable__label {background-color: #d4ebff;}#sk-container-id-1 div.sk-serial::before {content: \"\";position: absolute;border-left: 1px solid gray;box-sizing: border-box;top: 0;bottom: 0;left: 50%;z-index: 0;}#sk-container-id-1 div.sk-serial {display: flex;flex-direction: column;align-items: center;background-color: white;padding-right: 0.2em;padding-left: 0.2em;position: relative;}#sk-container-id-1 div.sk-item {position: relative;z-index: 1;}#sk-container-id-1 div.sk-parallel {display: flex;align-items: stretch;justify-content: center;background-color: white;position: relative;}#sk-container-id-1 div.sk-item::before, #sk-container-id-1 div.sk-parallel-item::before {content: \"\";position: absolute;border-left: 1px solid gray;box-sizing: border-box;top: 0;bottom: 0;left: 50%;z-index: -1;}#sk-container-id-1 div.sk-parallel-item {display: flex;flex-direction: column;z-index: 1;position: relative;background-color: white;}#sk-container-id-1 div.sk-parallel-item:first-child::after {align-self: flex-end;width: 50%;}#sk-container-id-1 div.sk-parallel-item:last-child::after {align-self: flex-start;width: 50%;}#sk-container-id-1 div.sk-parallel-item:only-child::after {width: 0;}#sk-container-id-1 div.sk-dashed-wrapped {border: 1px dashed gray;margin: 0 0.4em 0.5em 0.4em;box-sizing: border-box;padding-bottom: 0.4em;background-color: white;}#sk-container-id-1 div.sk-label label {font-family: monospace;font-weight: bold;display: inline-block;line-height: 1.2em;}#sk-container-id-1 div.sk-label-container {text-align: center;}#sk-container-id-1 div.sk-container {/* jupyter's `normalize.less` sets `[hidden] { display: none; }` but bootstrap.min.css set `[hidden] { display: none !important; }` so we also need the `!important` here to be able to override the default hidden behavior on the sphinx rendered scikit-learn.org. See: https://github.com/scikit-learn/scikit-learn/issues/21755 */display: inline-block !important;position: relative;}#sk-container-id-1 div.sk-text-repr-fallback {display: none;}</style><div id=\"sk-container-id-1\" class=\"sk-top-container\"><div class=\"sk-text-repr-fallback\"><pre>KNeighborsClassifier()</pre><b>In a Jupyter environment, please rerun this cell to show the HTML representation or trust the notebook. <br />On GitHub, the HTML representation is unable to render, please try loading this page with nbviewer.org.</b></div><div class=\"sk-container\" hidden><div class=\"sk-item\"><div class=\"sk-estimator sk-toggleable\"><input class=\"sk-toggleable__control sk-hidden--visually\" id=\"sk-estimator-id-1\" type=\"checkbox\" checked><label for=\"sk-estimator-id-1\" class=\"sk-toggleable__label sk-toggleable__label-arrow\">KNeighborsClassifier</label><div class=\"sk-toggleable__content\"><pre>KNeighborsClassifier()</pre></div></div></div></div></div>"
            ]
          },
          "metadata": {},
          "execution_count": 9
        }
      ]
    },
    {
      "cell_type": "code",
      "source": [
        "# Evaluate models\n",
        "ann_pred = np.argmax(ann_model.predict(X_test_pad), axis=-1)\n",
        "rnn_pred = np.argmax(rnn_model.predict(X_test_pad), axis=-1)\n",
        "knn_pred = knn_model.predict(X_test_vec)"
      ],
      "metadata": {
        "colab": {
          "base_uri": "https://localhost:8080/"
        },
        "id": "tkhzdBAyC_Q3",
        "outputId": "80a1b428-4e9a-4178-8863-579dcc31c9e4"
      },
      "execution_count": null,
      "outputs": [
        {
          "output_type": "stream",
          "name": "stdout",
          "text": [
            "171/171 [==============================] - 0s 1ms/step\n",
            "171/171 [==============================] - 3s 16ms/step\n"
          ]
        }
      ]
    },
    {
      "cell_type": "code",
      "source": [
        "print(\"ANN Accuracy:\", accuracy_score(y_test, ann_pred))\n",
        "print(\"RNN Accuracy:\", accuracy_score(y_test, rnn_pred))\n",
        "print(\"KNN Accuracy:\", accuracy_score(y_test, knn_pred))"
      ],
      "metadata": {
        "colab": {
          "base_uri": "https://localhost:8080/"
        },
        "id": "p-YxVqrL_CTX",
        "outputId": "087be2fc-d2dd-4981-dca1-40340864a817"
      },
      "execution_count": null,
      "outputs": [
        {
          "output_type": "stream",
          "name": "stdout",
          "text": [
            "ANN Accuracy: 0.2480719794344473\n",
            "RNN Accuracy: 0.4944913698127066\n",
            "KNN Accuracy: 0.3235402130003672\n"
          ]
        }
      ]
    }
  ]
}